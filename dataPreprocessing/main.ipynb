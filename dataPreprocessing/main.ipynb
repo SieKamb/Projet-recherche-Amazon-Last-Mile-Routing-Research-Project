{
 "cells": [
  {
   "cell_type": "code",
   "metadata": {
    "ExecuteTime": {
     "end_time": "2025-04-15T17:30:14.648918Z",
     "start_time": "2025-04-15T17:30:06.972565Z"
    }
   },
   "source": [
    "import pandas as pd\n",
    "import json\n",
    "\n",
    "folder_path = \"C:\\\\Users\\\\HP\\\\Documents\\\\S4\\\\partie2\\\\projetRecherche\\\\Data_Amazon_Challenge\\\\model_build_inputs\"\n",
    "\n",
    "\n",
    "# Charger le fichier JSON manuellement\n",
    "with open(f\"{folder_path}/route_data.json\", \"r\") as file:\n",
    "    raw_data = json.load(file)\n",
    "\n",
    "# Convertir les données en DataFrame\n",
    "route_data = pd.DataFrame.from_dict(raw_data, orient='index').reset_index()\n",
    "\n",
    "# Renommer la colonne contenant les RouteID\n",
    "route_data.rename(columns={'index': 'RouteID'}, inplace=True)\n",
    "\n",
    "#data = data.T\n",
    "\n",
    "\"\"\"columnNames = data.columns.tolist()\n",
    "print(f\"Column names: {columnNames}\")\n",
    "number_of_rows, number_of_columns = data.shape\n",
    "print(f\"Number of rows: {number_of_rows}\")\n",
    "print(f\"Number of columns: {number_of_columns}\")\"\"\"\n",
    "\n",
    "#Ecrire les données dans un fichier CSV\n",
    "route_data.to_csv(f\"{folder_path}/route_data.csv\", index=False)"
   ],
   "outputs": [],
   "execution_count": 1
  },
  {
   "cell_type": "code",
   "metadata": {
    "ExecuteTime": {
     "end_time": "2025-04-15T17:30:14.756193Z",
     "start_time": "2025-04-15T17:30:14.750201Z"
    }
   },
   "source": [
    "colonnesDeData = route_data.columns\n",
    "print(colonnesDeData)"
   ],
   "outputs": [
    {
     "name": "stdout",
     "output_type": "stream",
     "text": [
      "Index(['RouteID', 'station_code', 'date_YYYY_MM_DD', 'departure_time_utc',\n",
      "       'executor_capacity_cm3', 'route_score', 'stops'],\n",
      "      dtype='object')\n"
     ]
    }
   ],
   "execution_count": 2
  },
  {
   "cell_type": "code",
   "metadata": {
    "ExecuteTime": {
     "end_time": "2025-04-15T17:30:22.411154Z",
     "start_time": "2025-04-15T17:30:15.085896Z"
    }
   },
   "source": [
    "#charger les données du le fichier package_data.json\n",
    "with open(f\"{folder_path}/package_data.json\", \"r\") as file:\n",
    "    package_data = json.load(file)\n"
   ],
   "outputs": [],
   "execution_count": 3
  },
  {
   "cell_type": "code",
   "metadata": {
    "ExecuteTime": {
     "end_time": "2025-04-15T17:31:58.434782Z",
     "start_time": "2025-04-15T17:30:23.564374Z"
    }
   },
   "source": [
    "with open(f\"{folder_path}/travel_times.json\", \"r\") as file:\n",
    "    travel_times = json.load(file)\n",
    "\n"
   ],
   "outputs": [],
   "execution_count": 4
  },
  {
   "cell_type": "code",
   "metadata": {
    "ExecuteTime": {
     "end_time": "2025-04-15T17:31:58.512003Z",
     "start_time": "2025-04-15T17:31:58.493299Z"
    }
   },
   "source": [
    "L1_route_data = route_data.iloc[0]\n",
    "#print(L1_route_data['RouteID'])\n",
    "routId = L1_route_data['RouteID']\n",
    "departureTime = L1_route_data['date_YYYY_MM_DD'] + \" \" + L1_route_data['departure_time_utc']\n",
    "endOfDay = L1_route_data['date_YYYY_MM_DD'] + \" 23:59:59\"\n",
    "beginningOfDay = L1_route_data['date_YYYY_MM_DD'] + \" 00:00:00\"\n",
    "\n",
    "stops = L1_route_data[\"stops\"]\n",
    "lenght = len(stops.keys())\n",
    "V = {0 :'depart'}#il y a un conflit à résoudre ici\n",
    "pos = 0\n",
    "for i in stops.keys():\n",
    "    V[pos] = i\n",
    "    pos +=1\n",
    "\n",
    "print(len(V))\n",
    "\n",
    "times = travel_times[L1_route_data['RouteID']]\n",
    "\n",
    "packages = package_data[L1_route_data['RouteID']]\n",
    "\n",
    "if 'AF' in V.values():\n",
    "    print(\"AF is in the stops\")\n"
   ],
   "outputs": [
    {
     "name": "stdout",
     "output_type": "stream",
     "text": [
      "119\n",
      "AF is in the stops\n"
     ]
    }
   ],
   "execution_count": 5
  },
  {
   "cell_type": "code",
   "metadata": {
    "ExecuteTime": {
     "end_time": "2025-04-15T17:31:59.281333Z",
     "start_time": "2025-04-15T17:31:58.518481Z"
    }
   },
   "source": [
    "#Création de l'ensemble e des arrêts\n",
    "E = {}\n",
    "\n",
    "for i in range(len(stops.keys())):\n",
    "    for j in range(len(stops.keys())):\n",
    "        E[(i, j)] = times[V[i]][V[j]]        "
   ],
   "outputs": [],
   "execution_count": 6
  },
  {
   "cell_type": "code",
   "metadata": {
    "ExecuteTime": {
     "end_time": "2025-04-15T17:31:59.330661Z",
     "start_time": "2025-04-15T17:31:59.324145Z"
    }
   },
   "source": [
    "from datetime import datetime\n",
    "\n",
    "def comparer_dates(date1_str, date2_str):#verifier si date1_str est avant date2_str\n",
    "    date_format = \"%Y-%m-%d %H:%M:%S\"\n",
    "    date1 = datetime.strptime(date1_str, date_format)\n",
    "    date2 = datetime.strptime(date2_str, date_format)\n",
    "    return date1 < date2\n",
    "\n",
    "#soustraire deux dates\n",
    "def soustraire_dates(date1_str, date2_str):\n",
    "    date_format = \"%Y-%m-%d %H:%M:%S\"\n",
    "    date1 = datetime.strptime(date1_str, date_format)\n",
    "    date2 = datetime.strptime(date2_str, date_format)\n",
    "    difference = date1 - date2\n",
    "    return difference.total_seconds()/60 #convertir en minutes "
   ],
   "outputs": [],
   "execution_count": 7
  },
  {
   "cell_type": "code",
   "metadata": {
    "ExecuteTime": {
     "end_time": "2025-04-15T18:12:55.597011Z",
     "start_time": "2025-04-15T18:12:55.581830Z"
    }
   },
   "source": [
    "#Création de l'ensemble, A, des heures minimms de livraisons\n",
    "# Jointure des boucles pour créer les ensembles A et B\n",
    "A = {}\n",
    "B = {}\n",
    "for i in range(lenght):\n",
    "    packageOfTheStop = packages[V[i]]\n",
    "    a = 'NaN'\n",
    "    b = 'NaN'\n",
    "    for package_details in packageOfTheStop.values():\n",
    "        start_tmp = package_details['time_window']['start_time_utc']\n",
    "        end_tmp = package_details['time_window']['end_time_utc']\n",
    "        \n",
    "        # Mise à jour de a (heure minimale de livraison)\n",
    "        if isinstance(start_tmp, str) and start_tmp != 'NaN':\n",
    "            if a != 'NaN':\n",
    "                if comparer_dates(start_tmp, a):\n",
    "                    a = start_tmp\n",
    "            else:\n",
    "                a = start_tmp\n",
    "        \n",
    "        # Mise à jour de b (heure maximale de livraison)\n",
    "        if isinstance(end_tmp, str) and end_tmp != 'NaN':\n",
    "            if b != 'NaN':\n",
    "                if comparer_dates(b, end_tmp):\n",
    "                    b = end_tmp\n",
    "            else:\n",
    "                b = end_tmp\n",
    "    \n",
    "    # Gestion des valeurs par défaut si aucune heure n'est trouvée\n",
    "    if a == 'NaN':\n",
    "        a = departureTime\n",
    "    if b == 'NaN':\n",
    "        b = endOfDay\n",
    "    \n",
    "    A[i] = a\n",
    "    B[i] = b\n",
    "\n",
    "\n",
    "#Transformer les dates de livraison au plus taux en minutes\n",
    "for i in range(lenght):\n",
    "    temp = soustraire_dates(A[i], departureTime)\n",
    "    if temp > 0:\n",
    "        A[i] = round(temp, 3)\n",
    "    else:\n",
    "        A[i] = 0\n",
    "    temp = soustraire_dates(B[i], departureTime)\n",
    "    if temp > 0:\n",
    "        B[i] = round(temp, 3)\n",
    "    else:\n",
    "        B[i] = 0\n",
    "#print(B)\n",
    "\n",
    "V = list( V.keys())[:15]\n",
    "p = E.copy()\n",
    "E = list(E.keys())\n",
    "\n",
    "\n"
   ],
   "outputs": [],
   "execution_count": 16
  }
 ],
 "metadata": {
  "kernelspec": {
   "display_name": "Python 3",
   "language": "python",
   "name": "python3"
  },
  "language_info": {
   "codemirror_mode": {
    "name": "ipython",
    "version": 3
   },
   "file_extension": ".py",
   "mimetype": "text/x-python",
   "name": "python",
   "nbconvert_exporter": "python",
   "pygments_lexer": "ipython3",
   "version": "3.12.3"
  }
 },
 "nbformat": 4,
 "nbformat_minor": 2
}
